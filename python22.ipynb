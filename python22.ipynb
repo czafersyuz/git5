{
  "nbformat": 4,
  "nbformat_minor": 0,
  "metadata": {
    "colab": {
      "name": "python22.ipynb",
      "provenance": [],
      "mount_file_id": "14-w6YAdG8hqhL3r9i5iavj-oGN8zgMqH",
      "authorship_tag": "ABX9TyOU2WdyGGlj1kW8H/2bZr65",
      "include_colab_link": true
    },
    "kernelspec": {
      "name": "python3",
      "display_name": "Python 3"
    },
    "language_info": {
      "name": "python"
    }
  },
  "cells": [
    {
      "cell_type": "markdown",
      "metadata": {
        "id": "view-in-github",
        "colab_type": "text"
      },
      "source": [
        "<a href=\"https://colab.research.google.com/github/czafersyuz/git5/blob/main/python22.ipynb\" target=\"_parent\"><img src=\"https://colab.research.google.com/assets/colab-badge.svg\" alt=\"Open In Colab\"/></a>"
      ]
    },
    {
      "cell_type": "code",
      "execution_count": 7,
      "metadata": {
        "colab": {
          "base_uri": "https://localhost:8080/"
        },
        "id": "Xs0RIO5nfVnN",
        "outputId": "0a915b9a-38ad-4980-c587-f337e4dac8bf"
      },
      "outputs": [
        {
          "output_type": "stream",
          "name": "stdout",
          "text": [
            "Orca is a kind of Dolphin.\n",
            "Blue Whale is the largest animal known on earth.\n",
            "Sharks are the sister group to the Rays (batoids).\n",
            "The Tuna Fish can weigh up to 260 kg.\n",
            "Squid and Octopus are in the same class.\n"
          ]
        }
      ],
      "source": [
        "#encoding olmadanda yazar\n",
        "file=open(\"fishes.txt\", \"r\",encoding=\"utf-8\")\n",
        "content=file.read()\n",
        "print(content)\n",
        "file.close()"
      ]
    },
    {
      "cell_type": "code",
      "source": [
        "#newline dahil\n",
        "file=open(\"fishes.txt\", \"r\",encoding=\"utf-8\")\n",
        "print(file.read(33))"
      ],
      "metadata": {
        "colab": {
          "base_uri": "https://localhost:8080/"
        },
        "id": "JwteoZRdhH7e",
        "outputId": "96993c70-ec39-4dc0-bb92-b80571d64ad8"
      },
      "execution_count": 8,
      "outputs": [
        {
          "output_type": "stream",
          "name": "stdout",
          "text": [
            "Orca is a kind of Dolphin.\n",
            "Blue W\n"
          ]
        }
      ]
    },
    {
      "cell_type": "code",
      "source": [
        "len(content)"
      ],
      "metadata": {
        "colab": {
          "base_uri": "https://localhost:8080/"
        },
        "id": "eBdPKueAhIG1",
        "outputId": "cde7853d-4685-4162-ac63-1d2c5a8ff10e"
      },
      "execution_count": 9,
      "outputs": [
        {
          "output_type": "execute_result",
          "data": {
            "text/plain": [
              "205"
            ]
          },
          "metadata": {},
          "execution_count": 9
        }
      ]
    },
    {
      "cell_type": "code",
      "source": [
        "content[:33]"
      ],
      "metadata": {
        "colab": {
          "base_uri": "https://localhost:8080/",
          "height": 35
        },
        "id": "43rQ9SLWhILD",
        "outputId": "5eae0a47-6388-496e-d151-f62b7fca6083"
      },
      "execution_count": 11,
      "outputs": [
        {
          "output_type": "execute_result",
          "data": {
            "application/vnd.google.colaboratory.intrinsic+json": {
              "type": "string"
            },
            "text/plain": [
              "'Orca is a kind of Dolphin.\\nBlue W'"
            ]
          },
          "metadata": {},
          "execution_count": 11
        }
      ]
    },
    {
      "cell_type": "code",
      "source": [
        "# imlecin kaldıgı yerden 33 sayar\n",
        "file=open(\"fishes.txt\", \"r\",encoding=\"utf-8\")\n",
        "print(file.read(33))\n",
        "print(file.read(33))"
      ],
      "metadata": {
        "colab": {
          "base_uri": "https://localhost:8080/"
        },
        "id": "CiwXMWLrhIOW",
        "outputId": "19f125e7-a325-4b7f-f082-5b91a1f5e219"
      },
      "execution_count": 12,
      "outputs": [
        {
          "output_type": "stream",
          "name": "stdout",
          "text": [
            "Orca is a kind of Dolphin.\n",
            "Blue W\n",
            "hale is the largest animal known \n"
          ]
        }
      ]
    },
    {
      "cell_type": "code",
      "source": [
        "file=open(\"fishes.txt\", \"r\",encoding=\"utf-8\")\n",
        "print(file.read(33))\n",
        "print(file.read(33))\n",
        "file.seek(0)\n",
        "print(file.read(33))\n"
      ],
      "metadata": {
        "colab": {
          "base_uri": "https://localhost:8080/"
        },
        "id": "t5MLu3qihIR8",
        "outputId": "6840cd25-b3c9-41ea-ce7a-c8ee5f67cfa7"
      },
      "execution_count": 13,
      "outputs": [
        {
          "output_type": "stream",
          "name": "stdout",
          "text": [
            "Orca is a kind of Dolphin.\n",
            "Blue W\n",
            "hale is the largest animal known \n",
            "Orca is a kind of Dolphin.\n",
            "Blue W\n"
          ]
        }
      ]
    },
    {
      "cell_type": "code",
      "source": [
        "file=open(\"fishes.txt\", \"r\",encoding=\"utf-8\")\n",
        "print(file.read(33))\n",
        "print(file.read(33))\n",
        "file.seek(0)\n",
        "print(file.read(33))\n",
        "print(file.tell())\n",
        "\n",
        "file.close()"
      ],
      "metadata": {
        "colab": {
          "base_uri": "https://localhost:8080/"
        },
        "id": "QP1EAdZphIY5",
        "outputId": "6ce6b053-5b51-48d2-d0e9-411b643395ff"
      },
      "execution_count": 15,
      "outputs": [
        {
          "output_type": "stream",
          "name": "stdout",
          "text": [
            "Orca is a kind of Dolphin.\n",
            "Blue W\n",
            "hale is the largest animal known \n",
            "Orca is a kind of Dolphin.\n",
            "Blue W\n",
            "34\n"
          ]
        }
      ]
    },
    {
      "cell_type": "code",
      "source": [
        "file=open(\"fishes.txt\", \"r\",encoding=\"utf-8\")\n",
        "print(file.read(33))\n",
        "print(file.read(15))\n",
        "print(file.tell())\n",
        "file.seek(0)\n",
        "print(file.read(33))\n",
        "print(file.tell())\n",
        "\n",
        "file.close()"
      ],
      "metadata": {
        "colab": {
          "base_uri": "https://localhost:8080/"
        },
        "id": "FiyuRwP8jyqs",
        "outputId": "a4415cc3-6b57-4b01-d0e7-12a494e77e18"
      },
      "execution_count": 16,
      "outputs": [
        {
          "output_type": "stream",
          "name": "stdout",
          "text": [
            "Orca is a kind of Dolphin.\n",
            "Blue W\n",
            "hale is the lar\n",
            "49\n",
            "Orca is a kind of Dolphin.\n",
            "Blue W\n",
            "34\n"
          ]
        }
      ]
    },
    {
      "cell_type": "code",
      "source": [
        "\"\"\"I want to sing\n",
        "Like the birds sing,\n",
        "Not worrying about\n",
        "Who hears or\n",
        "What they think.\"\"\""
      ],
      "metadata": {
        "colab": {
          "base_uri": "https://localhost:8080/",
          "height": 35
        },
        "id": "taADWuI-jy0h",
        "outputId": "a6e1286b-922a-4603-e94c-45c717fa1329"
      },
      "execution_count": 18,
      "outputs": [
        {
          "output_type": "execute_result",
          "data": {
            "application/vnd.google.colaboratory.intrinsic+json": {
              "type": "string"
            },
            "text/plain": [
              "'I want to sing\\nLike the birds sing,\\nNot worrying about\\nWho hears or\\nWhat they think.'"
            ]
          },
          "metadata": {},
          "execution_count": 18
        }
      ]
    },
    {
      "cell_type": "code",
      "source": [
        "rumi=open(\"rumi.txt\", \"r\")\n",
        "print(rumi.read())\n",
        "rumi.close()"
      ],
      "metadata": {
        "colab": {
          "base_uri": "https://localhost:8080/"
        },
        "id": "Nqw7Flwzjy39",
        "outputId": "ff795c88-9b54-4ab5-a2cd-630511f8e797"
      },
      "execution_count": 20,
      "outputs": [
        {
          "output_type": "stream",
          "name": "stdout",
          "text": [
            "I want to sing\n",
            "Like the birds sing,\n",
            "Not worrying about\n",
            "Who hears or\n",
            "What they think.\n"
          ]
        }
      ]
    },
    {
      "cell_type": "code",
      "source": [
        "rumi=open(\"rumi.txt\", \"r\")\n",
        "print(rumi.read(35))\n",
        "rumi.close()"
      ],
      "metadata": {
        "colab": {
          "base_uri": "https://localhost:8080/"
        },
        "id": "8IOiHViTjy6S",
        "outputId": "d75dce9d-a27b-4de8-fac0-08ca6ab98516"
      },
      "execution_count": 21,
      "outputs": [
        {
          "output_type": "stream",
          "name": "stdout",
          "text": [
            "I want to sing\n",
            "Like the birds sing,\n"
          ]
        }
      ]
    },
    {
      "cell_type": "code",
      "source": [
        "rumi=open(\"rumi.txt\", \"r\")\n",
        "print(rumi.read(35))\n",
        "print(rumi.read(13))\n",
        "rumi.close()"
      ],
      "metadata": {
        "colab": {
          "base_uri": "https://localhost:8080/"
        },
        "id": "riEXoRALjy9R",
        "outputId": "7958d4c0-fe7f-4838-ddee-01e5933c2668"
      },
      "execution_count": 22,
      "outputs": [
        {
          "output_type": "stream",
          "name": "stdout",
          "text": [
            "I want to sing\n",
            "Like the birds sing,\n",
            "\n",
            "Not worrying\n"
          ]
        }
      ]
    },
    {
      "cell_type": "code",
      "source": [
        "rumi=open(\"rumi.txt\", \"r\")\n",
        "print(rumi.read(35))\n",
        "print(rumi.read(13))\n",
        "print(rumi.tell())\n",
        "rumi.close()"
      ],
      "metadata": {
        "colab": {
          "base_uri": "https://localhost:8080/"
        },
        "id": "_zk3zLKKjy_1",
        "outputId": "5e38ae65-9ec3-431f-8bc6-7cf9b0ea3c3e"
      },
      "execution_count": 23,
      "outputs": [
        {
          "output_type": "stream",
          "name": "stdout",
          "text": [
            "I want to sing\n",
            "Like the birds sing,\n",
            "\n",
            "Not worrying\n",
            "50\n"
          ]
        }
      ]
    },
    {
      "cell_type": "code",
      "source": [
        "rumi=open(\"rumi.txt\", \"r\")\n",
        "print(rumi.read(35))\n",
        "print(rumi.read(13))\n",
        "print(rumi.tell())\n",
        "rumi.seek(15)\n",
        "\n",
        "rumi.close()"
      ],
      "metadata": {
        "colab": {
          "base_uri": "https://localhost:8080/"
        },
        "id": "gf-gxm0_jzCk",
        "outputId": "63dd8dd1-ec40-44a1-ef9a-7c3e96da3737"
      },
      "execution_count": 24,
      "outputs": [
        {
          "output_type": "stream",
          "name": "stdout",
          "text": [
            "I want to sing\n",
            "Like the birds sing,\n",
            "\n",
            "Not worrying\n",
            "50\n"
          ]
        }
      ]
    },
    {
      "cell_type": "code",
      "source": [
        "rumi=open(\"rumi.txt\", \"r\")\n",
        "print(rumi.read(35))\n",
        "print(rumi.read(13))\n",
        "print(rumi.tell())\n",
        "rumi.seek(15)\n",
        "print(rumi.read(21))\n",
        "rumi.close()"
      ],
      "metadata": {
        "colab": {
          "base_uri": "https://localhost:8080/"
        },
        "id": "n6_sCckwjzFT",
        "outputId": "da5798a5-e804-4dd0-d9ad-8be294b39b93"
      },
      "execution_count": 25,
      "outputs": [
        {
          "output_type": "stream",
          "name": "stdout",
          "text": [
            "I want to sing\n",
            "Like the birds sing,\n",
            "\n",
            "Not worrying\n",
            "50\n",
            "\n",
            "Like the birds sing,\n"
          ]
        }
      ]
    },
    {
      "cell_type": "code",
      "source": [
        "#satırı okur, ilk satır bitene kadra devam eder.\n",
        "sea=open(\"fishes.txt\", \"r\")\n",
        "print(sea.readline())\n",
        "print(sea.readline())\n",
        "print(sea.readline())\n",
        "\n",
        "sea.close()"
      ],
      "metadata": {
        "colab": {
          "base_uri": "https://localhost:8080/"
        },
        "id": "ioOcXQ9yq7FO",
        "outputId": "b2c1f618-16d3-4711-f8ad-6ee67c64a194"
      },
      "execution_count": 27,
      "outputs": [
        {
          "output_type": "stream",
          "name": "stdout",
          "text": [
            "Orca is a kind of Dolphin.\n",
            "\n",
            "Blue Whale is the largest animal known on earth.\n",
            "\n",
            "Sharks are the sister group to the Rays (batoids).\n",
            "\n"
          ]
        }
      ]
    },
    {
      "cell_type": "code",
      "source": [
        "sea=open(\"fishes.txt\", \"r\")\n",
        "print(sea.readline(13))\n",
        "print(sea.readline(13))\n",
        "print(sea.readline(13))\n",
        "print(sea.readline(13))\n",
        "\n",
        "sea.close()"
      ],
      "metadata": {
        "colab": {
          "base_uri": "https://localhost:8080/"
        },
        "id": "U3HhdWVXq7Mk",
        "outputId": "1f13205c-211a-4be4-f18e-2e2b1723f52c"
      },
      "execution_count": 28,
      "outputs": [
        {
          "output_type": "stream",
          "name": "stdout",
          "text": [
            "Orca is a kin\n",
            "d of Dolphin.\n",
            "\n",
            "\n",
            "Blue Whale is\n"
          ]
        }
      ]
    },
    {
      "cell_type": "code",
      "source": [
        "sea=open(\"rumi.txt\", \"r\")\n",
        "print(sea.readline())\n",
        "print(sea.readline())\n",
        "print(sea.readline(13))\n",
        "\n",
        "\n",
        "sea.close()"
      ],
      "metadata": {
        "colab": {
          "base_uri": "https://localhost:8080/"
        },
        "id": "kLC4JoTDq7QM",
        "outputId": "0c019d0d-16f4-4e92-bb3e-a9ff89b86760"
      },
      "execution_count": 29,
      "outputs": [
        {
          "output_type": "stream",
          "name": "stdout",
          "text": [
            "I want to sing\n",
            "\n",
            "Like the birds sing,\n",
            "\n",
            "Not worrying \n"
          ]
        }
      ]
    },
    {
      "cell_type": "code",
      "source": [
        "#satırları liste şeklinde okur.\n",
        "#satırlar arasında gezebilirsiniz.\n",
        "#for döngüsüne sokabilirsiniz\n",
        "sea=open(\"rumi.txt\", \"r\")\n",
        "print(sea.readlines())\n",
        "sea.close()"
      ],
      "metadata": {
        "colab": {
          "base_uri": "https://localhost:8080/"
        },
        "id": "p-Y1wX96q7TW",
        "outputId": "50ba2d38-2101-4342-9210-8a63463502ba"
      },
      "execution_count": 30,
      "outputs": [
        {
          "output_type": "stream",
          "name": "stdout",
          "text": [
            "['I want to sing\\n', 'Like the birds sing,\\n', 'Not worrying about\\n', 'Who hears or\\n', 'What they think.']\n"
          ]
        }
      ]
    },
    {
      "cell_type": "code",
      "source": [
        "with open(\"fishes.txt\", \"r\") as file:\n",
        "  fish=file.readlines()\n",
        "  print(fish)"
      ],
      "metadata": {
        "colab": {
          "base_uri": "https://localhost:8080/"
        },
        "id": "BAlGQD2Bq7Wp",
        "outputId": "ea1ae907-8b8d-4491-e415-482003017153"
      },
      "execution_count": 31,
      "outputs": [
        {
          "output_type": "stream",
          "name": "stdout",
          "text": [
            "['Orca is a kind of Dolphin.\\n', 'Blue Whale is the largest animal known on earth.\\n', 'Sharks are the sister group to the Rays (batoids).\\n', 'The Tuna Fish can weigh up to 260 kg.\\n', 'Squid and Octopus are in the same class.']\n"
          ]
        }
      ]
    },
    {
      "cell_type": "code",
      "source": [
        "fish"
      ],
      "metadata": {
        "colab": {
          "base_uri": "https://localhost:8080/"
        },
        "id": "PvSQ2Rk6q7aA",
        "outputId": "4be5c446-ae1b-40f6-ba4e-18a91d185e86"
      },
      "execution_count": 32,
      "outputs": [
        {
          "output_type": "execute_result",
          "data": {
            "text/plain": [
              "['Orca is a kind of Dolphin.\\n',\n",
              " 'Blue Whale is the largest animal known on earth.\\n',\n",
              " 'Sharks are the sister group to the Rays (batoids).\\n',\n",
              " 'The Tuna Fish can weigh up to 260 kg.\\n',\n",
              " 'Squid and Octopus are in the same class.']"
            ]
          },
          "metadata": {},
          "execution_count": 32
        }
      ]
    },
    {
      "cell_type": "code",
      "source": [
        "type(fish)"
      ],
      "metadata": {
        "colab": {
          "base_uri": "https://localhost:8080/"
        },
        "id": "AiW5Pe0Qq7rd",
        "outputId": "6cdf0363-573b-4b6f-e31d-0095896f6633"
      },
      "execution_count": 33,
      "outputs": [
        {
          "output_type": "execute_result",
          "data": {
            "text/plain": [
              "list"
            ]
          },
          "metadata": {},
          "execution_count": 33
        }
      ]
    },
    {
      "cell_type": "code",
      "source": [
        "for line in fish :\n",
        "  print(line)"
      ],
      "metadata": {
        "colab": {
          "base_uri": "https://localhost:8080/"
        },
        "id": "UbxzA6xBx4cr",
        "outputId": "67473c5b-7e75-479b-d076-5419f28e6c62"
      },
      "execution_count": 34,
      "outputs": [
        {
          "output_type": "stream",
          "name": "stdout",
          "text": [
            "Orca is a kind of Dolphin.\n",
            "\n",
            "Blue Whale is the largest animal known on earth.\n",
            "\n",
            "Sharks are the sister group to the Rays (batoids).\n",
            "\n",
            "The Tuna Fish can weigh up to 260 kg.\n",
            "\n",
            "Squid and Octopus are in the same class.\n"
          ]
        }
      ]
    },
    {
      "cell_type": "code",
      "source": [
        "with open(\"rumi.txt\", \"r\") as file:\n",
        "  rumi=file.readlines()"
      ],
      "metadata": {
        "id": "JvvfubfSx4mr"
      },
      "execution_count": 36,
      "outputs": []
    },
    {
      "cell_type": "code",
      "source": [
        "rumi"
      ],
      "metadata": {
        "colab": {
          "base_uri": "https://localhost:8080/"
        },
        "id": "MpY4nQZ3x4p4",
        "outputId": "6d01a43c-dfa6-4604-bd5b-f10329e1e0f0"
      },
      "execution_count": 37,
      "outputs": [
        {
          "output_type": "execute_result",
          "data": {
            "text/plain": [
              "['I want to sing\\n',\n",
              " 'Like the birds sing,\\n',\n",
              " 'Not worrying about\\n',\n",
              " 'Who hears or\\n',\n",
              " 'What they think.']"
            ]
          },
          "metadata": {},
          "execution_count": 37
        }
      ]
    },
    {
      "cell_type": "code",
      "source": [
        "\n",
        "with open(\"fishes.txt\", \"r\") as file:\n",
        "  for line in fish :\n",
        "    print(line)"
      ],
      "metadata": {
        "colab": {
          "base_uri": "https://localhost:8080/"
        },
        "id": "CxuVB3nhx4sx",
        "outputId": "d7473981-d482-4b53-c858-e5e55f6df1d1"
      },
      "execution_count": 38,
      "outputs": [
        {
          "output_type": "stream",
          "name": "stdout",
          "text": [
            "Orca is a kind of Dolphin.\n",
            "\n",
            "Blue Whale is the largest animal known on earth.\n",
            "\n",
            "Sharks are the sister group to the Rays (batoids).\n",
            "\n",
            "The Tuna Fish can weigh up to 260 kg.\n",
            "\n",
            "Squid and Octopus are in the same class.\n"
          ]
        }
      ]
    },
    {
      "cell_type": "code",
      "source": [
        "with open(\"dummy_file.txt\", 'w', encoding=\"utf-8\") as file:  \n",
        "# we create and open the file\n",
        "\n",
        "    file.write('This is the first line of my text file')  \n",
        "    # writes str data into file\n",
        "\n",
        "with open(\"dummy_file.txt\", 'r', encoding=\"utf-8\") as file:\n",
        "    print(file.read())  # reads the content of the 'dummy_file'"
      ],
      "metadata": {
        "colab": {
          "base_uri": "https://localhost:8080/"
        },
        "id": "91z-6NQV3JFx",
        "outputId": "9eb70203-bb59-4ac3-947e-62abec7bab47"
      },
      "execution_count": 39,
      "outputs": [
        {
          "output_type": "stream",
          "name": "stdout",
          "text": [
            "This is the first line of my text file\n"
          ]
        }
      ]
    },
    {
      "cell_type": "code",
      "source": [
        "with open(\"dummy_file.txt\", 'w', encoding=\"utf-8\") as file:\n",
        "    file.write('This is the new line for my dummy_file')  \n",
        "    # we write new str data into it \n",
        "\n",
        "with open(\"dummy_file.txt\", 'r', encoding=\"utf-8\") as file:\n",
        "    print(file.read())  # reads the content of the 'dummy_file'"
      ],
      "metadata": {
        "colab": {
          "base_uri": "https://localhost:8080/"
        },
        "id": "TXWH7QWF3JSf",
        "outputId": "c581ef2e-cd3b-4142-9505-634c2a46f4d1"
      },
      "execution_count": 40,
      "outputs": [
        {
          "output_type": "stream",
          "name": "stdout",
          "text": [
            "This is the new line for my dummy_file\n"
          ]
        }
      ]
    },
    {
      "cell_type": "code",
      "source": [
        "!ls"
      ],
      "metadata": {
        "colab": {
          "base_uri": "https://localhost:8080/"
        },
        "id": "PA1S2qS83JWA",
        "outputId": "4a1e9093-55c9-4a7c-f510-d6914c5a34c3"
      },
      "execution_count": 41,
      "outputs": [
        {
          "output_type": "stream",
          "name": "stdout",
          "text": [
            "drive  dummy_file.txt  fishes.txt  rumi.txt  sample_data\n"
          ]
        }
      ]
    },
    {
      "cell_type": "code",
      "source": [
        "with open(\"dummy_file.txt\",\"w\",encoding=\"utf-8\") as file:\n",
        "  file.write(\"my first sentence\")\n",
        "  file.write(\"my second sentence\")\n",
        "  file.write(\"my third sentence\\n\")\n",
        "  file.write(\"my fourth sentence\")\n",
        "  file.write(\"my last sentence\")\n",
        "with open(\"dummy_file.txt\",\"r\",encoding=\"utf-8\") as file:\n",
        "    print(file.read())"
      ],
      "metadata": {
        "colab": {
          "base_uri": "https://localhost:8080/"
        },
        "id": "dWnuavQu3JY4",
        "outputId": "274c1f39-3693-43f0-91ca-f99104bab410"
      },
      "execution_count": 45,
      "outputs": [
        {
          "output_type": "stream",
          "name": "stdout",
          "text": [
            "my first sentencemy second sentencemy third sentence\n",
            "my fourth sentencemy last sentence\n"
          ]
        }
      ]
    },
    {
      "cell_type": "code",
      "source": [
        "fruits = ['Banana', 'Orange', 'Apple', 'Strawberry', 'Cherry']"
      ],
      "metadata": {
        "id": "yR5K54ND3JcR"
      },
      "execution_count": 48,
      "outputs": []
    },
    {
      "cell_type": "code",
      "source": [
        "with open(\"fruits.txt\", \"w\", encoding=\"utf-8\") as dosyam :\n",
        "  for sepet in fruits :\n",
        "    dosyam.write(sepet+\"\\n\")\n",
        "  \n",
        "with open(\"fruits.txt\", \"r\") as file :\n",
        "  print(file.read())"
      ],
      "metadata": {
        "colab": {
          "base_uri": "https://localhost:8080/"
        },
        "id": "amnggtng3Jey",
        "outputId": "85388335-f630-460b-f227-35efeef063cb"
      },
      "execution_count": 49,
      "outputs": [
        {
          "output_type": "stream",
          "name": "stdout",
          "text": [
            "Banana\n",
            "Orange\n",
            "Apple\n",
            "Strawberry\n",
            "Cherry\n",
            "\n"
          ]
        }
      ]
    },
    {
      "cell_type": "code",
      "source": [
        "with open(\"fruits.txt\", \"r\") as file :\n",
        "  fruits2=file.readlines()\n",
        "  "
      ],
      "metadata": {
        "id": "pX8oorcW3Jhy"
      },
      "execution_count": 59,
      "outputs": []
    },
    {
      "cell_type": "code",
      "source": [
        "fruits2"
      ],
      "metadata": {
        "colab": {
          "base_uri": "https://localhost:8080/"
        },
        "id": "X0vKPzWW8Wf9",
        "outputId": "6a333d4b-b88f-45c7-bb0a-6ccb3a6bbe7b"
      },
      "execution_count": 60,
      "outputs": [
        {
          "output_type": "execute_result",
          "data": {
            "text/plain": [
              "['BananaOrangeAppleStrawberryCherry']"
            ]
          },
          "metadata": {},
          "execution_count": 60
        }
      ]
    },
    {
      "cell_type": "code",
      "source": [
        "with open(\"fruits2.txt\", \"w\", encoding=\"utf-8\") as ff :\n",
        "  ff.writelines(fruits2)\n",
        "  "
      ],
      "metadata": {
        "id": "HBPCmwaF3Jki"
      },
      "execution_count": 63,
      "outputs": []
    },
    {
      "cell_type": "code",
      "source": [
        "fruits2"
      ],
      "metadata": {
        "colab": {
          "base_uri": "https://localhost:8080/"
        },
        "id": "m91fsb7184__",
        "outputId": "0a22506e-ad1e-4bb7-f5ca-d174c0c839e3"
      },
      "execution_count": 64,
      "outputs": [
        {
          "output_type": "execute_result",
          "data": {
            "text/plain": [
              "['BananaOrangeAppleStrawberryCherry']"
            ]
          },
          "metadata": {},
          "execution_count": 64
        }
      ]
    },
    {
      "cell_type": "code",
      "source": [
        "fruits3=fruits2+[\"lemon\"]"
      ],
      "metadata": {
        "id": "hxL0khGV3Jog"
      },
      "execution_count": 62,
      "outputs": []
    },
    {
      "cell_type": "code",
      "source": [
        "with open(\"fruits.txt\", \"w\", encoding=\"utf-8\") as dosyam :\n",
        "  for sepet in fruits :\n",
        "    dosyam.write(sepet+\"\\n\")\n",
        "  \n",
        "with open(\"fruits.txt\", \"r\") as file :\n",
        "  print(file.read())"
      ],
      "metadata": {
        "id": "jI8KlO9S8kl3"
      },
      "execution_count": null,
      "outputs": []
    },
    {
      "cell_type": "code",
      "source": [
        "with open(\"istiklalmarsı.txt\", \"r\") as file:\n",
        "  print(file.read())"
      ],
      "metadata": {
        "colab": {
          "base_uri": "https://localhost:8080/"
        },
        "id": "ECCHUM1k8kPG",
        "outputId": "7498f199-2051-4f5c-b575-a5cdbafed66c"
      },
      "execution_count": 84,
      "outputs": [
        {
          "output_type": "stream",
          "name": "stdout",
          "text": [
            "Korkma, sönmez bu şafaklarda yüzen al sancak;\n",
            "Sönmeden yurdumun üstünde tüten en son ocak.\n",
            "O benim milletimin yıldızıdır, parlayacak;\n",
            "O benimdir, o benim milletimindir ancak.\n",
            "Çatma, kurban olayım, çehreni ey nazlı hilal!\n",
            "Kahraman ırkıma bir gül! Ne bu şiddet, bu celal?\n",
            "Sana olmaz dökülen kanlarımız sonra helal...\n",
            "Hakkıdır, hakk'a tapan, milletimin istiklal!\n",
            "Ben ezelden beridir hür yaşadım, hür yaşarım.\n",
            "Hangi çılgın bana zincir vuracakmış? Şaşarım!\n",
            "Kükremiş sel gibiyim, bendimi çiğner, aşarım.\n",
            "Yırtarım dağları, enginlere sığmam, taşarım.\n",
            "Garbın afakını sarmışsa çelik zırhlı duvar,\n",
            "Benim iman dolu göğsüm gibi serhaddim var.\n",
            "Ulusun, korkma! Nasıl böyle bir imanı boğar,\n",
            "'Medeniyet!' dediğin tek dişi kalmış canavar?\n",
            "Arkadaş! Yurduma alçakları uğratma, sakın.\n",
            "Siper et gövdeni, dursun bu hayasızca akın.\n",
            "Doğacaktır sana va'dettigi günler hakk'ın...\n",
            "Kim bilir, belki yarın, belki yarından da yakın.\n",
            "Bastığın yerleri 'toprak!' diyerek geçme, tanı:\n",
            "Düşün altında binlerce kefensiz yatanı.\n",
            "Sen şehit oğlusun, incitme, yazıktır, atanı:\n",
            "Verme, dünyaları alsan da, bu cennet vatanı.\n",
            "Kim bu cennet vatanın uğruna olmaz ki feda?\n",
            "Şuheda fışkıracak toprağı sıksan, şuheda!\n",
            "Canı, cananı, bütün varımı alsın da hüda,\n",
            "Etmesin tek vatanımdan beni dünyada cüda.\n",
            "Ruhumun senden, ilahi, şudur ancak emeli:\n",
            "Değmesin mabedimin göğsüne namahrem eli.\n",
            "Bu ezanlar-ki şahadetleri dinin temeli,\n",
            "Ebedi yurdumun üstünde benim inlemeli.\n"
          ]
        }
      ]
    },
    {
      "cell_type": "code",
      "source": [
        "with open(\"istiklalmarsı.txt\", \"r\", encoding=\"utf-8\") as file :\n",
        "  lines=file.readlines()\n"
      ],
      "metadata": {
        "colab": {
          "base_uri": "https://localhost:8080/"
        },
        "id": "9VedMXZN-DHU",
        "outputId": "b82e0f10-d772-4fc1-aa39-bed27f641d35"
      },
      "execution_count": 83,
      "outputs": [
        {
          "output_type": "stream",
          "name": "stdout",
          "text": [
            "['Korkma, sönmez bu şafaklarda yüzen al sancak;\\n', 'Sönmeden yurdumun üstünde tüten en son ocak.\\n', 'O benim milletimin yıldızıdır, parlayacak;\\n', 'O benimdir, o benim milletimindir ancak.\\n', 'Çatma, kurban olayım, çehreni ey nazlı hilal!\\n', 'Kahraman ırkıma bir gül! Ne bu şiddet, bu celal?\\n', 'Sana olmaz dökülen kanlarımız sonra helal...\\n', \"Hakkıdır, hakk'a tapan, milletimin istiklal!\\n\", 'Ben ezelden beridir hür yaşadım, hür yaşarım.\\n', 'Hangi çılgın bana zincir vuracakmış? Şaşarım!\\n', 'Kükremiş sel gibiyim, bendimi çiğner, aşarım.\\n', 'Yırtarım dağları, enginlere sığmam, taşarım.\\n', 'Garbın afakını sarmışsa çelik zırhlı duvar,\\n', 'Benim iman dolu göğsüm gibi serhaddim var.\\n', 'Ulusun, korkma! Nasıl böyle bir imanı boğar,\\n', \"'Medeniyet!' dediğin tek dişi kalmış canavar?\\n\", 'Arkadaş! Yurduma alçakları uğratma, sakın.\\n', 'Siper et gövdeni, dursun bu hayasızca akın.\\n', \"Doğacaktır sana va'dettigi günler hakk'ın...\\n\", 'Kim bilir, belki yarın, belki yarından da yakın.\\n', \"Bastığın yerleri 'toprak!' diyerek geçme, tanı:\\n\", 'Düşün altında binlerce kefensiz yatanı.\\n', 'Sen şehit oğlusun, incitme, yazıktır, atanı:\\n', 'Verme, dünyaları alsan da, bu cennet vatanı.\\n', 'Kim bu cennet vatanın uğruna olmaz ki feda?\\n', 'Şuheda fışkıracak toprağı sıksan, şuheda!\\n', 'Canı, cananı, bütün varımı alsın da hüda,\\n', 'Etmesin tek vatanımdan beni dünyada cüda.\\n', 'Ruhumun senden, ilahi, şudur ancak emeli:\\n', 'Değmesin mabedimin göğsüne namahrem eli.\\n', 'Bu ezanlar-ki şahadetleri dinin temeli,\\n', 'Ebedi yurdumun üstünde benim inlemeli.']\n"
          ]
        }
      ]
    },
    {
      "cell_type": "code",
      "source": [
        "lines"
      ],
      "metadata": {
        "colab": {
          "base_uri": "https://localhost:8080/"
        },
        "id": "4ppiIveTBpeh",
        "outputId": "623d8ce4-166f-4b2a-f117-619d74af190f"
      },
      "execution_count": 85,
      "outputs": [
        {
          "output_type": "execute_result",
          "data": {
            "text/plain": [
              "['Korkma, sönmez bu şafaklarda yüzen al sancak;\\n',\n",
              " 'Sönmeden yurdumun üstünde tüten en son ocak.\\n',\n",
              " 'O benim milletimin yıldızıdır, parlayacak;\\n',\n",
              " 'O benimdir, o benim milletimindir ancak.\\n',\n",
              " 'Çatma, kurban olayım, çehreni ey nazlı hilal!\\n',\n",
              " 'Kahraman ırkıma bir gül! Ne bu şiddet, bu celal?\\n',\n",
              " 'Sana olmaz dökülen kanlarımız sonra helal...\\n',\n",
              " \"Hakkıdır, hakk'a tapan, milletimin istiklal!\\n\",\n",
              " 'Ben ezelden beridir hür yaşadım, hür yaşarım.\\n',\n",
              " 'Hangi çılgın bana zincir vuracakmış? Şaşarım!\\n',\n",
              " 'Kükremiş sel gibiyim, bendimi çiğner, aşarım.\\n',\n",
              " 'Yırtarım dağları, enginlere sığmam, taşarım.\\n',\n",
              " 'Garbın afakını sarmışsa çelik zırhlı duvar,\\n',\n",
              " 'Benim iman dolu göğsüm gibi serhaddim var.\\n',\n",
              " 'Ulusun, korkma! Nasıl böyle bir imanı boğar,\\n',\n",
              " \"'Medeniyet!' dediğin tek dişi kalmış canavar?\\n\",\n",
              " 'Arkadaş! Yurduma alçakları uğratma, sakın.\\n',\n",
              " 'Siper et gövdeni, dursun bu hayasızca akın.\\n',\n",
              " \"Doğacaktır sana va'dettigi günler hakk'ın...\\n\",\n",
              " 'Kim bilir, belki yarın, belki yarından da yakın.\\n',\n",
              " \"Bastığın yerleri 'toprak!' diyerek geçme, tanı:\\n\",\n",
              " 'Düşün altında binlerce kefensiz yatanı.\\n',\n",
              " 'Sen şehit oğlusun, incitme, yazıktır, atanı:\\n',\n",
              " 'Verme, dünyaları alsan da, bu cennet vatanı.\\n',\n",
              " 'Kim bu cennet vatanın uğruna olmaz ki feda?\\n',\n",
              " 'Şuheda fışkıracak toprağı sıksan, şuheda!\\n',\n",
              " 'Canı, cananı, bütün varımı alsın da hüda,\\n',\n",
              " 'Etmesin tek vatanımdan beni dünyada cüda.\\n',\n",
              " 'Ruhumun senden, ilahi, şudur ancak emeli:\\n',\n",
              " 'Değmesin mabedimin göğsüne namahrem eli.\\n',\n",
              " 'Bu ezanlar-ki şahadetleri dinin temeli,\\n',\n",
              " 'Ebedi yurdumun üstünde benim inlemeli.']"
            ]
          },
          "metadata": {},
          "execution_count": 85
        }
      ]
    },
    {
      "cell_type": "code",
      "source": [
        "counter=0\n",
        "with open(\"istiklalmarsı.txt\", \"w\", encoding=\"utf-8\") as file :\n",
        "  for i in lines :\n",
        "    counter +=1\n",
        "    if counter % 4 == 0:\n",
        "      file.write(i + \"\\n\")\n",
        "    else:\n",
        "      file.write(i)\n",
        "with open(\"istiklalmarsı.txt\", \"r\") as ff:\n",
        "  print(ff.read())"
      ],
      "metadata": {
        "colab": {
          "base_uri": "https://localhost:8080/"
        },
        "id": "4DUvpJF8-DQA",
        "outputId": "8bb19d57-e70c-480e-defa-06f7656b234d"
      },
      "execution_count": 88,
      "outputs": [
        {
          "output_type": "stream",
          "name": "stdout",
          "text": [
            "Korkma, sönmez bu şafaklarda yüzen al sancak;\n",
            "Sönmeden yurdumun üstünde tüten en son ocak.\n",
            "O benim milletimin yıldızıdır, parlayacak;\n",
            "O benimdir, o benim milletimindir ancak.\n",
            "\n",
            "Çatma, kurban olayım, çehreni ey nazlı hilal!\n",
            "Kahraman ırkıma bir gül! Ne bu şiddet, bu celal?\n",
            "Sana olmaz dökülen kanlarımız sonra helal...\n",
            "Hakkıdır, hakk'a tapan, milletimin istiklal!\n",
            "\n",
            "Ben ezelden beridir hür yaşadım, hür yaşarım.\n",
            "Hangi çılgın bana zincir vuracakmış? Şaşarım!\n",
            "Kükremiş sel gibiyim, bendimi çiğner, aşarım.\n",
            "Yırtarım dağları, enginlere sığmam, taşarım.\n",
            "\n",
            "Garbın afakını sarmışsa çelik zırhlı duvar,\n",
            "Benim iman dolu göğsüm gibi serhaddim var.\n",
            "Ulusun, korkma! Nasıl böyle bir imanı boğar,\n",
            "'Medeniyet!' dediğin tek dişi kalmış canavar?\n",
            "\n",
            "Arkadaş! Yurduma alçakları uğratma, sakın.\n",
            "Siper et gövdeni, dursun bu hayasızca akın.\n",
            "Doğacaktır sana va'dettigi günler hakk'ın...\n",
            "Kim bilir, belki yarın, belki yarından da yakın.\n",
            "\n",
            "Bastığın yerleri 'toprak!' diyerek geçme, tanı:\n",
            "Düşün altında binlerce kefensiz yatanı.\n",
            "Sen şehit oğlusun, incitme, yazıktır, atanı:\n",
            "Verme, dünyaları alsan da, bu cennet vatanı.\n",
            "\n",
            "Kim bu cennet vatanın uğruna olmaz ki feda?\n",
            "Şuheda fışkıracak toprağı sıksan, şuheda!\n",
            "Canı, cananı, bütün varımı alsın da hüda,\n",
            "Etmesin tek vatanımdan beni dünyada cüda.\n",
            "\n",
            "Ruhumun senden, ilahi, şudur ancak emeli:\n",
            "Değmesin mabedimin göğsüne namahrem eli.\n",
            "Bu ezanlar-ki şahadetleri dinin temeli,\n",
            "Ebedi yurdumun üstünde benim inlemeli.\n",
            "\n"
          ]
        }
      ]
    }
  ]
}